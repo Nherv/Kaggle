{
 "cells": [
  {
   "cell_type": "code",
   "execution_count": 1,
   "metadata": {
    "collapsed": true
   },
   "outputs": [],
   "source": [
    "import pandas as pd\n",
    "import numpy as np\n",
    "\n",
    "%matplotlib inline\n",
    "import matplotlib.pyplot as plt\n",
    "from IPython.display import set_matplotlib_formats"
   ]
  },
  {
   "cell_type": "code",
   "execution_count": 2,
   "metadata": {
    "collapsed": false
   },
   "outputs": [
    {
     "name": "stderr",
     "output_type": "stream",
     "text": [
      "C:\\Users\\x-her\\Anaconda3\\lib\\site-packages\\ipykernel\\__main__.py:1: ParserWarning: Falling back to the 'python' engine because the 'c' engine does not support regex separators (separators > 1 char and different from '\\s+' are interpreted as regex); you can avoid this warning by specifying engine='python'.\n",
      "  if __name__ == '__main__':\n"
     ]
    },
    {
     "data": {
      "text/html": [
       "<div>\n",
       "<style>\n",
       "    .dataframe thead tr:only-child th {\n",
       "        text-align: right;\n",
       "    }\n",
       "\n",
       "    .dataframe thead th {\n",
       "        text-align: left;\n",
       "    }\n",
       "\n",
       "    .dataframe tbody tr th {\n",
       "        vertical-align: top;\n",
       "    }\n",
       "</style>\n",
       "<table border=\"1\" class=\"dataframe\">\n",
       "  <thead>\n",
       "    <tr style=\"text-align: right;\">\n",
       "      <th></th>\n",
       "      <th>feature_names</th>\n",
       "      <th>feature_description</th>\n",
       "    </tr>\n",
       "  </thead>\n",
       "  <tbody>\n",
       "    <tr>\n",
       "      <th>0</th>\n",
       "      <td>nb_words_title</td>\n",
       "      <td>Number of words in the article's titles</td>\n",
       "    </tr>\n",
       "    <tr>\n",
       "      <th>1</th>\n",
       "      <td>nb_words_content</td>\n",
       "      <td>Number of words in the article</td>\n",
       "    </tr>\n",
       "    <tr>\n",
       "      <th>2</th>\n",
       "      <td>pp_uniq_words</td>\n",
       "      <td>Proportion of unique words in the article</td>\n",
       "    </tr>\n",
       "    <tr>\n",
       "      <th>3</th>\n",
       "      <td>pp_stop_words</td>\n",
       "      <td>Proportion of stop words (i.e. words predefine...</td>\n",
       "    </tr>\n",
       "    <tr>\n",
       "      <th>4</th>\n",
       "      <td>pp_uniq_non-stop_words</td>\n",
       "      <td>Proportion of non-stop words among unique words</td>\n",
       "    </tr>\n",
       "    <tr>\n",
       "      <th>5</th>\n",
       "      <td>nb_links</td>\n",
       "      <td>Number of hyperlinks in the article</td>\n",
       "    </tr>\n",
       "    <tr>\n",
       "      <th>6</th>\n",
       "      <td>nb_outside_links</td>\n",
       "      <td>Number of hyperlinks pointing to another website</td>\n",
       "    </tr>\n",
       "    <tr>\n",
       "      <th>7</th>\n",
       "      <td>nb_images</td>\n",
       "      <td>Number of images in the article</td>\n",
       "    </tr>\n",
       "    <tr>\n",
       "      <th>8</th>\n",
       "      <td>nb_videos</td>\n",
       "      <td>Number of videos in the article</td>\n",
       "    </tr>\n",
       "    <tr>\n",
       "      <th>9</th>\n",
       "      <td>ave_word_length</td>\n",
       "      <td>Average word length</td>\n",
       "    </tr>\n",
       "    <tr>\n",
       "      <th>10</th>\n",
       "      <td>nb_keywords</td>\n",
       "      <td>Number of keywords in the metadata</td>\n",
       "    </tr>\n",
       "    <tr>\n",
       "      <th>11</th>\n",
       "      <td>category</td>\n",
       "      <td>Category of the article: 0-Lifestyle, 1-Entert...</td>\n",
       "    </tr>\n",
       "    <tr>\n",
       "      <th>12</th>\n",
       "      <td>nb_mina_mink</td>\n",
       "      <td>Minimum number of share counts among all artic...</td>\n",
       "    </tr>\n",
       "    <tr>\n",
       "      <th>13</th>\n",
       "      <td>nb_mina_maxk</td>\n",
       "      <td>Minimum number of maximum share counts per key...</td>\n",
       "    </tr>\n",
       "    <tr>\n",
       "      <th>14</th>\n",
       "      <td>nb_mina_avek</td>\n",
       "      <td>Minimum number of average share counts per key...</td>\n",
       "    </tr>\n",
       "    <tr>\n",
       "      <th>15</th>\n",
       "      <td>nb_maxa_mink</td>\n",
       "      <td>Maximum number of minimum share counts per key...</td>\n",
       "    </tr>\n",
       "    <tr>\n",
       "      <th>16</th>\n",
       "      <td>nb_maxa_maxk</td>\n",
       "      <td>Maximum number of share counts among all artic...</td>\n",
       "    </tr>\n",
       "    <tr>\n",
       "      <th>17</th>\n",
       "      <td>nb_maxa_avek</td>\n",
       "      <td>Maximum number of average share counts per key...</td>\n",
       "    </tr>\n",
       "    <tr>\n",
       "      <th>18</th>\n",
       "      <td>nb_avea_mink</td>\n",
       "      <td>Average number of minimum share counts per key...</td>\n",
       "    </tr>\n",
       "    <tr>\n",
       "      <th>19</th>\n",
       "      <td>nb_avea_maxk</td>\n",
       "      <td>Average number of maximum share counts per key...</td>\n",
       "    </tr>\n",
       "    <tr>\n",
       "      <th>20</th>\n",
       "      <td>nb_avea_avek</td>\n",
       "      <td>Average number of average share counts per key...</td>\n",
       "    </tr>\n",
       "    <tr>\n",
       "      <th>21</th>\n",
       "      <td>nb_min_linked</td>\n",
       "      <td>Minimum number of shares of articles from the ...</td>\n",
       "    </tr>\n",
       "    <tr>\n",
       "      <th>22</th>\n",
       "      <td>nb_max_linked</td>\n",
       "      <td>Maximum number of shares of articles from the ...</td>\n",
       "    </tr>\n",
       "    <tr>\n",
       "      <th>23</th>\n",
       "      <td>nb_ave_linked</td>\n",
       "      <td>Average number of shares of articles from the ...</td>\n",
       "    </tr>\n",
       "    <tr>\n",
       "      <th>24</th>\n",
       "      <td>weekday</td>\n",
       "      <td>Day of the week: 0-Monday, 1-Tuesday, 2-Wednes...</td>\n",
       "    </tr>\n",
       "    <tr>\n",
       "      <th>25</th>\n",
       "      <td>dist_topic_0</td>\n",
       "      <td>Distance to topic 0</td>\n",
       "    </tr>\n",
       "    <tr>\n",
       "      <th>26</th>\n",
       "      <td>dist_topic_1</td>\n",
       "      <td>Distance to topic 1</td>\n",
       "    </tr>\n",
       "    <tr>\n",
       "      <th>27</th>\n",
       "      <td>dist_topic_2</td>\n",
       "      <td>Distance to topic 2</td>\n",
       "    </tr>\n",
       "    <tr>\n",
       "      <th>28</th>\n",
       "      <td>dist_topic_3</td>\n",
       "      <td>Distance to topic 3</td>\n",
       "    </tr>\n",
       "    <tr>\n",
       "      <th>29</th>\n",
       "      <td>dist_topic_4</td>\n",
       "      <td>Distance to topic 4</td>\n",
       "    </tr>\n",
       "    <tr>\n",
       "      <th>30</th>\n",
       "      <td>subj</td>\n",
       "      <td>Subjectivity</td>\n",
       "    </tr>\n",
       "    <tr>\n",
       "      <th>31</th>\n",
       "      <td>polar</td>\n",
       "      <td>Sentiment polarity</td>\n",
       "    </tr>\n",
       "    <tr>\n",
       "      <th>32</th>\n",
       "      <td>pp_pos_words</td>\n",
       "      <td>Proportion of positive words in the article</td>\n",
       "    </tr>\n",
       "    <tr>\n",
       "      <th>33</th>\n",
       "      <td>pp_neg_words</td>\n",
       "      <td>Proportion of negative words in the article</td>\n",
       "    </tr>\n",
       "    <tr>\n",
       "      <th>34</th>\n",
       "      <td>pp_pos_words_in_nonneutral</td>\n",
       "      <td>Proportion of positive words among the non-neu...</td>\n",
       "    </tr>\n",
       "    <tr>\n",
       "      <th>35</th>\n",
       "      <td>ave_polar_pos</td>\n",
       "      <td>Average sentiment polarity of the positive words</td>\n",
       "    </tr>\n",
       "    <tr>\n",
       "      <th>36</th>\n",
       "      <td>min_polar_pos</td>\n",
       "      <td>Minimum sentiment polarity of the positive words</td>\n",
       "    </tr>\n",
       "    <tr>\n",
       "      <th>37</th>\n",
       "      <td>max_polar_pos</td>\n",
       "      <td>Maximum sentiment polarity of the positive words</td>\n",
       "    </tr>\n",
       "    <tr>\n",
       "      <th>38</th>\n",
       "      <td>ave_polar_neg</td>\n",
       "      <td>Average sentiment polarity of the negative words</td>\n",
       "    </tr>\n",
       "    <tr>\n",
       "      <th>39</th>\n",
       "      <td>min_polar_neg</td>\n",
       "      <td>Mimimum sentiment polarity of the negative words</td>\n",
       "    </tr>\n",
       "    <tr>\n",
       "      <th>40</th>\n",
       "      <td>max_polar_neg</td>\n",
       "      <td>Maximum sentiment polarity of the negative words</td>\n",
       "    </tr>\n",
       "    <tr>\n",
       "      <th>41</th>\n",
       "      <td>subj_title</td>\n",
       "      <td>Subjectivity of the title</td>\n",
       "    </tr>\n",
       "    <tr>\n",
       "      <th>42</th>\n",
       "      <td>polar_title</td>\n",
       "      <td>Polarity of the title</td>\n",
       "    </tr>\n",
       "  </tbody>\n",
       "</table>\n",
       "</div>"
      ],
      "text/plain": [
       "                 feature_names  \\\n",
       "0               nb_words_title   \n",
       "1             nb_words_content   \n",
       "2                pp_uniq_words   \n",
       "3                pp_stop_words   \n",
       "4       pp_uniq_non-stop_words   \n",
       "5                     nb_links   \n",
       "6             nb_outside_links   \n",
       "7                    nb_images   \n",
       "8                    nb_videos   \n",
       "9              ave_word_length   \n",
       "10                 nb_keywords   \n",
       "11                    category   \n",
       "12                nb_mina_mink   \n",
       "13                nb_mina_maxk   \n",
       "14                nb_mina_avek   \n",
       "15                nb_maxa_mink   \n",
       "16                nb_maxa_maxk   \n",
       "17                nb_maxa_avek   \n",
       "18                nb_avea_mink   \n",
       "19                nb_avea_maxk   \n",
       "20                nb_avea_avek   \n",
       "21               nb_min_linked   \n",
       "22               nb_max_linked   \n",
       "23               nb_ave_linked   \n",
       "24                     weekday   \n",
       "25                dist_topic_0   \n",
       "26                dist_topic_1   \n",
       "27                dist_topic_2   \n",
       "28                dist_topic_3   \n",
       "29                dist_topic_4   \n",
       "30                        subj   \n",
       "31                       polar   \n",
       "32                pp_pos_words   \n",
       "33                pp_neg_words   \n",
       "34  pp_pos_words_in_nonneutral   \n",
       "35               ave_polar_pos   \n",
       "36               min_polar_pos   \n",
       "37               max_polar_pos   \n",
       "38               ave_polar_neg   \n",
       "39               min_polar_neg   \n",
       "40               max_polar_neg   \n",
       "41                  subj_title   \n",
       "42                 polar_title   \n",
       "\n",
       "                                  feature_description  \n",
       "0             Number of words in the article's titles  \n",
       "1                      Number of words in the article  \n",
       "2           Proportion of unique words in the article  \n",
       "3   Proportion of stop words (i.e. words predefine...  \n",
       "4     Proportion of non-stop words among unique words  \n",
       "5                 Number of hyperlinks in the article  \n",
       "6    Number of hyperlinks pointing to another website  \n",
       "7                     Number of images in the article  \n",
       "8                     Number of videos in the article  \n",
       "9                                 Average word length  \n",
       "10                 Number of keywords in the metadata  \n",
       "11  Category of the article: 0-Lifestyle, 1-Entert...  \n",
       "12  Minimum number of share counts among all artic...  \n",
       "13  Minimum number of maximum share counts per key...  \n",
       "14  Minimum number of average share counts per key...  \n",
       "15  Maximum number of minimum share counts per key...  \n",
       "16  Maximum number of share counts among all artic...  \n",
       "17  Maximum number of average share counts per key...  \n",
       "18  Average number of minimum share counts per key...  \n",
       "19  Average number of maximum share counts per key...  \n",
       "20  Average number of average share counts per key...  \n",
       "21  Minimum number of shares of articles from the ...  \n",
       "22  Maximum number of shares of articles from the ...  \n",
       "23  Average number of shares of articles from the ...  \n",
       "24  Day of the week: 0-Monday, 1-Tuesday, 2-Wednes...  \n",
       "25                                Distance to topic 0  \n",
       "26                                Distance to topic 1  \n",
       "27                                Distance to topic 2  \n",
       "28                                Distance to topic 3  \n",
       "29                                Distance to topic 4  \n",
       "30                                       Subjectivity  \n",
       "31                                 Sentiment polarity  \n",
       "32        Proportion of positive words in the article  \n",
       "33        Proportion of negative words in the article  \n",
       "34  Proportion of positive words among the non-neu...  \n",
       "35   Average sentiment polarity of the positive words  \n",
       "36   Minimum sentiment polarity of the positive words  \n",
       "37   Maximum sentiment polarity of the positive words  \n",
       "38   Average sentiment polarity of the negative words  \n",
       "39   Mimimum sentiment polarity of the negative words  \n",
       "40   Maximum sentiment polarity of the negative words  \n",
       "41                          Subjectivity of the title  \n",
       "42                              Polarity of the title  "
      ]
     },
     "execution_count": 2,
     "metadata": {},
     "output_type": "execute_result"
    }
   ],
   "source": [
    "feature_data = pd.read_csv('features.txt', header=None, sep=\"  \", names=['feature_names', 'feature_description'])\n",
    "feature_data"
   ]
  },
  {
   "cell_type": "code",
   "execution_count": 3,
   "metadata": {
    "collapsed": false
   },
   "outputs": [
    {
     "data": {
      "text/html": [
       "<div>\n",
       "<style>\n",
       "    .dataframe thead tr:only-child th {\n",
       "        text-align: right;\n",
       "    }\n",
       "\n",
       "    .dataframe thead th {\n",
       "        text-align: left;\n",
       "    }\n",
       "\n",
       "    .dataframe tbody tr th {\n",
       "        vertical-align: top;\n",
       "    }\n",
       "</style>\n",
       "<table border=\"1\" class=\"dataframe\">\n",
       "  <thead>\n",
       "    <tr style=\"text-align: right;\">\n",
       "      <th></th>\n",
       "      <th>nb_words_title</th>\n",
       "      <th>nb_words_content</th>\n",
       "      <th>pp_uniq_words</th>\n",
       "      <th>pp_stop_words</th>\n",
       "      <th>pp_uniq_non-stop_words</th>\n",
       "      <th>nb_links</th>\n",
       "      <th>nb_outside_links</th>\n",
       "      <th>nb_images</th>\n",
       "      <th>nb_videos</th>\n",
       "      <th>ave_word_length</th>\n",
       "      <th>...</th>\n",
       "      <th>pp_neg_words</th>\n",
       "      <th>pp_pos_words_in_nonneutral</th>\n",
       "      <th>ave_polar_pos</th>\n",
       "      <th>min_polar_pos</th>\n",
       "      <th>max_polar_pos</th>\n",
       "      <th>ave_polar_neg</th>\n",
       "      <th>min_polar_neg</th>\n",
       "      <th>max_polar_neg</th>\n",
       "      <th>subj_title</th>\n",
       "      <th>polar_title</th>\n",
       "    </tr>\n",
       "  </thead>\n",
       "  <tbody>\n",
       "    <tr>\n",
       "      <th>2000</th>\n",
       "      <td>9</td>\n",
       "      <td>843</td>\n",
       "      <td>0.5358</td>\n",
       "      <td>2.092000e-09</td>\n",
       "      <td>0.7469</td>\n",
       "      <td>15.0</td>\n",
       "      <td>8</td>\n",
       "      <td>11</td>\n",
       "      <td>1</td>\n",
       "      <td>4</td>\n",
       "      <td>...</td>\n",
       "      <td>0.019230</td>\n",
       "      <td>0.7143</td>\n",
       "      <td>0.4437</td>\n",
       "      <td>0.03333</td>\n",
       "      <td>1.0</td>\n",
       "      <td>-0.3160</td>\n",
       "      <td>-0.8000</td>\n",
       "      <td>-0.05</td>\n",
       "      <td>0.0</td>\n",
       "      <td>0.0</td>\n",
       "    </tr>\n",
       "    <tr>\n",
       "      <th>2001</th>\n",
       "      <td>9</td>\n",
       "      <td>805</td>\n",
       "      <td>0.4196</td>\n",
       "      <td>2.165000e-09</td>\n",
       "      <td>0.5693</td>\n",
       "      <td>8.0</td>\n",
       "      <td>7</td>\n",
       "      <td>1</td>\n",
       "      <td>0</td>\n",
       "      <td>4</td>\n",
       "      <td>...</td>\n",
       "      <td>0.025710</td>\n",
       "      <td>0.5349</td>\n",
       "      <td>0.3081</td>\n",
       "      <td>0.05000</td>\n",
       "      <td>0.8</td>\n",
       "      <td>-0.3463</td>\n",
       "      <td>-0.7143</td>\n",
       "      <td>-0.10</td>\n",
       "      <td>0.9</td>\n",
       "      <td>0.3</td>\n",
       "    </tr>\n",
       "    <tr>\n",
       "      <th>2002</th>\n",
       "      <td>8</td>\n",
       "      <td>145</td>\n",
       "      <td>0.7594</td>\n",
       "      <td>1.163000e-08</td>\n",
       "      <td>0.8488</td>\n",
       "      <td>7.0</td>\n",
       "      <td>3</td>\n",
       "      <td>0</td>\n",
       "      <td>2</td>\n",
       "      <td>4</td>\n",
       "      <td>...</td>\n",
       "      <td>0.007519</td>\n",
       "      <td>0.8333</td>\n",
       "      <td>0.3673</td>\n",
       "      <td>0.13640</td>\n",
       "      <td>0.5</td>\n",
       "      <td>-0.2000</td>\n",
       "      <td>-0.2000</td>\n",
       "      <td>-0.20</td>\n",
       "      <td>0.0</td>\n",
       "      <td>0.0</td>\n",
       "    </tr>\n",
       "    <tr>\n",
       "      <th>2003</th>\n",
       "      <td>12</td>\n",
       "      <td>201</td>\n",
       "      <td>0.6359</td>\n",
       "      <td>9.259000e-09</td>\n",
       "      <td>0.8148</td>\n",
       "      <td>7.0</td>\n",
       "      <td>2</td>\n",
       "      <td>0</td>\n",
       "      <td>0</td>\n",
       "      <td>4</td>\n",
       "      <td>...</td>\n",
       "      <td>0.027030</td>\n",
       "      <td>0.7368</td>\n",
       "      <td>0.3721</td>\n",
       "      <td>0.13640</td>\n",
       "      <td>0.6</td>\n",
       "      <td>-0.4000</td>\n",
       "      <td>-0.4000</td>\n",
       "      <td>-0.40</td>\n",
       "      <td>0.0</td>\n",
       "      <td>0.0</td>\n",
       "    </tr>\n",
       "    <tr>\n",
       "      <th>2004</th>\n",
       "      <td>13</td>\n",
       "      <td>673</td>\n",
       "      <td>0.4609</td>\n",
       "      <td>2.500000e-09</td>\n",
       "      <td>0.5950</td>\n",
       "      <td>8.0</td>\n",
       "      <td>7</td>\n",
       "      <td>1</td>\n",
       "      <td>0</td>\n",
       "      <td>4</td>\n",
       "      <td>...</td>\n",
       "      <td>0.021440</td>\n",
       "      <td>0.5625</td>\n",
       "      <td>0.3500</td>\n",
       "      <td>0.05000</td>\n",
       "      <td>0.6</td>\n",
       "      <td>-0.2435</td>\n",
       "      <td>-0.8000</td>\n",
       "      <td>-0.10</td>\n",
       "      <td>0.0</td>\n",
       "      <td>0.0</td>\n",
       "    </tr>\n",
       "  </tbody>\n",
       "</table>\n",
       "<p>5 rows × 43 columns</p>\n",
       "</div>"
      ],
      "text/plain": [
       "      nb_words_title  nb_words_content  pp_uniq_words  pp_stop_words  \\\n",
       "2000               9               843         0.5358   2.092000e-09   \n",
       "2001               9               805         0.4196   2.165000e-09   \n",
       "2002               8               145         0.7594   1.163000e-08   \n",
       "2003              12               201         0.6359   9.259000e-09   \n",
       "2004              13               673         0.4609   2.500000e-09   \n",
       "\n",
       "      pp_uniq_non-stop_words  nb_links  nb_outside_links  nb_images  \\\n",
       "2000                  0.7469      15.0                 8         11   \n",
       "2001                  0.5693       8.0                 7          1   \n",
       "2002                  0.8488       7.0                 3          0   \n",
       "2003                  0.8148       7.0                 2          0   \n",
       "2004                  0.5950       8.0                 7          1   \n",
       "\n",
       "      nb_videos  ave_word_length     ...       pp_neg_words  \\\n",
       "2000          1                4     ...           0.019230   \n",
       "2001          0                4     ...           0.025710   \n",
       "2002          2                4     ...           0.007519   \n",
       "2003          0                4     ...           0.027030   \n",
       "2004          0                4     ...           0.021440   \n",
       "\n",
       "      pp_pos_words_in_nonneutral  ave_polar_pos  min_polar_pos  max_polar_pos  \\\n",
       "2000                      0.7143         0.4437        0.03333            1.0   \n",
       "2001                      0.5349         0.3081        0.05000            0.8   \n",
       "2002                      0.8333         0.3673        0.13640            0.5   \n",
       "2003                      0.7368         0.3721        0.13640            0.6   \n",
       "2004                      0.5625         0.3500        0.05000            0.6   \n",
       "\n",
       "      ave_polar_neg  min_polar_neg  max_polar_neg  subj_title  polar_title  \n",
       "2000        -0.3160        -0.8000          -0.05         0.0          0.0  \n",
       "2001        -0.3463        -0.7143          -0.10         0.9          0.3  \n",
       "2002        -0.2000        -0.2000          -0.20         0.0          0.0  \n",
       "2003        -0.4000        -0.4000          -0.40         0.0          0.0  \n",
       "2004        -0.2435        -0.8000          -0.10         0.0          0.0  \n",
       "\n",
       "[5 rows x 43 columns]"
      ]
     },
     "execution_count": 3,
     "metadata": {},
     "output_type": "execute_result"
    }
   ],
   "source": [
    "feature_names = list(feature_data['feature_names'])\n",
    "data = pd.read_csv('train.csv', header=None, sep=\" \", names=feature_names)\n",
    "data.head()"
   ]
  },
  {
   "cell_type": "markdown",
   "metadata": {},
   "source": [
    "### Encoding categorical features"
   ]
  },
  {
   "cell_type": "code",
   "execution_count": 4,
   "metadata": {
    "collapsed": false
   },
   "outputs": [
    {
     "data": {
      "text/html": [
       "<div>\n",
       "<style>\n",
       "    .dataframe thead tr:only-child th {\n",
       "        text-align: right;\n",
       "    }\n",
       "\n",
       "    .dataframe thead th {\n",
       "        text-align: left;\n",
       "    }\n",
       "\n",
       "    .dataframe tbody tr th {\n",
       "        vertical-align: top;\n",
       "    }\n",
       "</style>\n",
       "<table border=\"1\" class=\"dataframe\">\n",
       "  <thead>\n",
       "    <tr style=\"text-align: right;\">\n",
       "      <th></th>\n",
       "      <th>weekday_1</th>\n",
       "      <th>weekday_2</th>\n",
       "      <th>weekday_3</th>\n",
       "      <th>weekday_4</th>\n",
       "      <th>weekday_5</th>\n",
       "      <th>weekday_6</th>\n",
       "      <th>category_1</th>\n",
       "      <th>category_2</th>\n",
       "      <th>category_3</th>\n",
       "      <th>category_4</th>\n",
       "      <th>...</th>\n",
       "      <th>pp_neg_words</th>\n",
       "      <th>pp_pos_words_in_nonneutral</th>\n",
       "      <th>ave_polar_pos</th>\n",
       "      <th>min_polar_pos</th>\n",
       "      <th>max_polar_pos</th>\n",
       "      <th>ave_polar_neg</th>\n",
       "      <th>min_polar_neg</th>\n",
       "      <th>max_polar_neg</th>\n",
       "      <th>subj_title</th>\n",
       "      <th>polar_title</th>\n",
       "    </tr>\n",
       "  </thead>\n",
       "  <tbody>\n",
       "    <tr>\n",
       "      <th>2000</th>\n",
       "      <td>1</td>\n",
       "      <td>0</td>\n",
       "      <td>0</td>\n",
       "      <td>0</td>\n",
       "      <td>0</td>\n",
       "      <td>0</td>\n",
       "      <td>1</td>\n",
       "      <td>0</td>\n",
       "      <td>0</td>\n",
       "      <td>0</td>\n",
       "      <td>...</td>\n",
       "      <td>0.019230</td>\n",
       "      <td>0.7143</td>\n",
       "      <td>0.4437</td>\n",
       "      <td>0.03333</td>\n",
       "      <td>1.0</td>\n",
       "      <td>-0.3160</td>\n",
       "      <td>-0.8000</td>\n",
       "      <td>-0.05</td>\n",
       "      <td>0.0</td>\n",
       "      <td>0.0</td>\n",
       "    </tr>\n",
       "    <tr>\n",
       "      <th>2001</th>\n",
       "      <td>0</td>\n",
       "      <td>1</td>\n",
       "      <td>0</td>\n",
       "      <td>0</td>\n",
       "      <td>0</td>\n",
       "      <td>0</td>\n",
       "      <td>0</td>\n",
       "      <td>0</td>\n",
       "      <td>0</td>\n",
       "      <td>0</td>\n",
       "      <td>...</td>\n",
       "      <td>0.025710</td>\n",
       "      <td>0.5349</td>\n",
       "      <td>0.3081</td>\n",
       "      <td>0.05000</td>\n",
       "      <td>0.8</td>\n",
       "      <td>-0.3463</td>\n",
       "      <td>-0.7143</td>\n",
       "      <td>-0.10</td>\n",
       "      <td>0.9</td>\n",
       "      <td>0.3</td>\n",
       "    </tr>\n",
       "    <tr>\n",
       "      <th>2002</th>\n",
       "      <td>0</td>\n",
       "      <td>0</td>\n",
       "      <td>0</td>\n",
       "      <td>0</td>\n",
       "      <td>0</td>\n",
       "      <td>0</td>\n",
       "      <td>0</td>\n",
       "      <td>0</td>\n",
       "      <td>0</td>\n",
       "      <td>1</td>\n",
       "      <td>...</td>\n",
       "      <td>0.007519</td>\n",
       "      <td>0.8333</td>\n",
       "      <td>0.3673</td>\n",
       "      <td>0.13640</td>\n",
       "      <td>0.5</td>\n",
       "      <td>-0.2000</td>\n",
       "      <td>-0.2000</td>\n",
       "      <td>-0.20</td>\n",
       "      <td>0.0</td>\n",
       "      <td>0.0</td>\n",
       "    </tr>\n",
       "    <tr>\n",
       "      <th>2003</th>\n",
       "      <td>0</td>\n",
       "      <td>1</td>\n",
       "      <td>0</td>\n",
       "      <td>0</td>\n",
       "      <td>0</td>\n",
       "      <td>0</td>\n",
       "      <td>0</td>\n",
       "      <td>0</td>\n",
       "      <td>0</td>\n",
       "      <td>1</td>\n",
       "      <td>...</td>\n",
       "      <td>0.027030</td>\n",
       "      <td>0.7368</td>\n",
       "      <td>0.3721</td>\n",
       "      <td>0.13640</td>\n",
       "      <td>0.6</td>\n",
       "      <td>-0.4000</td>\n",
       "      <td>-0.4000</td>\n",
       "      <td>-0.40</td>\n",
       "      <td>0.0</td>\n",
       "      <td>0.0</td>\n",
       "    </tr>\n",
       "    <tr>\n",
       "      <th>2004</th>\n",
       "      <td>0</td>\n",
       "      <td>1</td>\n",
       "      <td>0</td>\n",
       "      <td>0</td>\n",
       "      <td>0</td>\n",
       "      <td>0</td>\n",
       "      <td>0</td>\n",
       "      <td>0</td>\n",
       "      <td>0</td>\n",
       "      <td>0</td>\n",
       "      <td>...</td>\n",
       "      <td>0.021440</td>\n",
       "      <td>0.5625</td>\n",
       "      <td>0.3500</td>\n",
       "      <td>0.05000</td>\n",
       "      <td>0.6</td>\n",
       "      <td>-0.2435</td>\n",
       "      <td>-0.8000</td>\n",
       "      <td>-0.10</td>\n",
       "      <td>0.0</td>\n",
       "      <td>0.0</td>\n",
       "    </tr>\n",
       "  </tbody>\n",
       "</table>\n",
       "<p>5 rows × 52 columns</p>\n",
       "</div>"
      ],
      "text/plain": [
       "      weekday_1  weekday_2  weekday_3  weekday_4  weekday_5  weekday_6  \\\n",
       "2000          1          0          0          0          0          0   \n",
       "2001          0          1          0          0          0          0   \n",
       "2002          0          0          0          0          0          0   \n",
       "2003          0          1          0          0          0          0   \n",
       "2004          0          1          0          0          0          0   \n",
       "\n",
       "      category_1  category_2  category_3  category_4     ...       \\\n",
       "2000           1           0           0           0     ...        \n",
       "2001           0           0           0           0     ...        \n",
       "2002           0           0           0           1     ...        \n",
       "2003           0           0           0           1     ...        \n",
       "2004           0           0           0           0     ...        \n",
       "\n",
       "      pp_neg_words  pp_pos_words_in_nonneutral  ave_polar_pos  min_polar_pos  \\\n",
       "2000      0.019230                      0.7143         0.4437        0.03333   \n",
       "2001      0.025710                      0.5349         0.3081        0.05000   \n",
       "2002      0.007519                      0.8333         0.3673        0.13640   \n",
       "2003      0.027030                      0.7368         0.3721        0.13640   \n",
       "2004      0.021440                      0.5625         0.3500        0.05000   \n",
       "\n",
       "      max_polar_pos  ave_polar_neg  min_polar_neg  max_polar_neg  subj_title  \\\n",
       "2000            1.0        -0.3160        -0.8000          -0.05         0.0   \n",
       "2001            0.8        -0.3463        -0.7143          -0.10         0.9   \n",
       "2002            0.5        -0.2000        -0.2000          -0.20         0.0   \n",
       "2003            0.6        -0.4000        -0.4000          -0.40         0.0   \n",
       "2004            0.6        -0.2435        -0.8000          -0.10         0.0   \n",
       "\n",
       "      polar_title  \n",
       "2000          0.0  \n",
       "2001          0.3  \n",
       "2002          0.0  \n",
       "2003          0.0  \n",
       "2004          0.0  \n",
       "\n",
       "[5 rows x 52 columns]"
      ]
     },
     "execution_count": 4,
     "metadata": {},
     "output_type": "execute_result"
    }
   ],
   "source": [
    "weekday_data = pd.get_dummies(data['weekday'], prefix='weekday', drop_first=True)\n",
    "category_data = pd.get_dummies(data['category'], prefix='category', drop_first=True)\n",
    "\n",
    "other_data = data.drop(['weekday', 'category'], axis=1)\n",
    "\n",
    "data = pd.concat([weekday_data, category_data, other_data], axis=1)\n",
    "\n",
    "data.head()"
   ]
  },
  {
   "cell_type": "markdown",
   "metadata": {
    "collapsed": true
   },
   "source": [
    "### Data"
   ]
  },
  {
   "cell_type": "code",
   "execution_count": 5,
   "metadata": {
    "collapsed": false
   },
   "outputs": [],
   "source": [
    "X = data.values\n",
    "\n",
    "pred = pd.read_csv('train-targets.csv', sep=',')\n",
    "Y = pred.drop(['Id'], axis=1).values[:,0]"
   ]
  },
  {
   "cell_type": "code",
   "execution_count": 6,
   "metadata": {
    "collapsed": false
   },
   "outputs": [
    {
     "name": "stdout",
     "output_type": "stream",
     "text": [
      "[[ 1.      0.      0.     ..., -0.05    0.      0.    ]\n",
      " [ 0.      1.      0.     ..., -0.1     0.9     0.3   ]\n",
      " [ 0.      0.      0.     ..., -0.2     0.      0.    ]\n",
      " ..., \n",
      " [ 0.      0.      0.     ..., -0.25    0.6429  0.2143]\n",
      " [ 0.      0.      0.     ...,  0.      0.85    0.2   ]\n",
      " [ 0.      0.      0.     ..., -0.1     1.     -1.    ]]\n",
      "[ 882 1102 1102 ..., 1401  902 1204]\n"
     ]
    }
   ],
   "source": [
    "print(X)\n",
    "print(Y)"
   ]
  },
  {
   "cell_type": "code",
   "execution_count": 7,
   "metadata": {
    "collapsed": false
   },
   "outputs": [
    {
     "name": "stdout",
     "output_type": "stream",
     "text": [
      "(5000, 52)\n",
      "(5000,)\n"
     ]
    }
   ],
   "source": [
    "print(X.shape)\n",
    "print(Y.shape)"
   ]
  },
  {
   "cell_type": "markdown",
   "metadata": {},
   "source": [
    "### Outliers elimination"
   ]
  },
  {
   "cell_type": "code",
   "execution_count": 8,
   "metadata": {
    "collapsed": false
   },
   "outputs": [
    {
     "data": {
      "text/plain": [
       "<matplotlib.legend.Legend at 0x1216c179ba8>"
      ]
     },
     "execution_count": 8,
     "metadata": {},
     "output_type": "execute_result"
    },
    {
     "data": {
      "image/png": "[encoded data removed]",
      "text/plain": [
       "<matplotlib.figure.Figure at 0x1216c1798d0>"
      ]
     },
     "metadata": {},
     "output_type": "display_data"
    }
   ],
   "source": [
    "set_matplotlib_formats('png')\n",
    "\n",
    "Id = [i for i in range(5000)]\n",
    "plt.scatter(Id, Y, label='Data', color='blue')\n",
    "plt.xlabel('id') ; plt.ylabel('likes')\n",
    "plt.legend()"
   ]
  },
  {
   "cell_type": "code",
   "execution_count": 9,
   "metadata": {
    "collapsed": false
   },
   "outputs": [],
   "source": [
    "def outliers_elimination(X, y, threshold):\n",
    "    outliers_indices = np.where(y >= threshold)\n",
    "    outliers = y[outliers_indices]\n",
    "    \n",
    "    X = np.delete(X, outliers_indices, axis=0)\n",
    "    y = np.delete(y, outliers_indices, axis=0)\n",
    "    \n",
    "    return X, y"
   ]
  },
  {
   "cell_type": "markdown",
   "metadata": {},
   "source": [
    "### Training set and validation data"
   ]
  },
  {
   "cell_type": "code",
   "execution_count": 10,
   "metadata": {
    "collapsed": false
   },
   "outputs": [],
   "source": [
    "list_indices = np.arange(len(Y))\n",
    "np.random.shuffle(list_indices)\n",
    "\n",
    "train_loc = list_indices[:4000]\n",
    "test_loc = list_indices[4000:]"
   ]
  },
  {
   "cell_type": "code",
   "execution_count": 11,
   "metadata": {
    "collapsed": false
   },
   "outputs": [],
   "source": [
    "# validation set\n",
    "Xvad = X[test_loc]\n",
    "yvad = Y[test_loc]\n",
    "\n",
    "# Training set\n",
    "Xt = X[train_loc]\n",
    "Yt = Y[train_loc]"
   ]
  },
  {
   "cell_type": "code",
   "execution_count": 12,
   "metadata": {
    "collapsed": false
   },
   "outputs": [
    {
     "name": "stdout",
     "output_type": "stream",
     "text": [
      "[[ 1.      0.      0.     ..., -0.1     0.      0.    ]\n",
      " [ 1.      0.      0.     ..., -0.1     0.1     0.3   ]\n",
      " [ 0.      0.      0.     ..., -0.05    0.      0.    ]\n",
      " ..., \n",
      " [ 0.      0.      0.     ..., -0.15    0.3     0.2   ]\n",
      " [ 1.      0.      0.     ..., -0.3     0.3333  0.25  ]\n",
      " [ 1.      0.      0.     ..., -0.1     0.      0.    ]]\n",
      "[  525  2001   570 ...,  1301   828 11603]\n",
      "(4000, 52)\n",
      "(1000, 52)\n"
     ]
    }
   ],
   "source": [
    "print(Xt)\n",
    "print(Yt)\n",
    "\n",
    "print(Xt.shape)\n",
    "print(Xvad.shape)"
   ]
  },
  {
   "cell_type": "code",
   "execution_count": 13,
   "metadata": {
    "collapsed": true
   },
   "outputs": [],
   "source": [
    "(Xt, Yt) = outliers_elimination(Xt, Yt, 70000)"
   ]
  },
  {
   "cell_type": "code",
   "execution_count": 14,
   "metadata": {
    "collapsed": false
   },
   "outputs": [
    {
     "name": "stdout",
     "output_type": "stream",
     "text": [
      "(3985, 52)\n",
      "(3985,)\n"
     ]
    }
   ],
   "source": [
    "print(Xt.shape)\n",
    "print(Yt.shape)"
   ]
  },
  {
   "cell_type": "markdown",
   "metadata": {},
   "source": [
    "### Scaling data"
   ]
  },
  {
   "cell_type": "code",
   "execution_count": 15,
   "metadata": {
    "collapsed": true
   },
   "outputs": [],
   "source": [
    "from sklearn import preprocessing\n",
    "\n",
    "# Create scaler object\n",
    "sc = preprocessing.StandardScaler()\n",
    "        \n",
    "# Fit the scaler and transform training data\n",
    "Xt = sc.fit_transform(Xt)\n",
    "        \n",
    "# Transform test data\n",
    "Xvad = sc.transform(Xvad)"
   ]
  },
  {
   "cell_type": "markdown",
   "metadata": {},
   "source": [
    "### Folds"
   ]
  },
  {
   "cell_type": "code",
   "execution_count": 16,
   "metadata": {
    "collapsed": true
   },
   "outputs": [],
   "source": [
    "from sklearn import model_selection\n",
    "skf = model_selection.KFold(n_splits=10)\n",
    "folds = [(tr,te) for (tr,te) in skf.split(Xt, Yt)]"
   ]
  },
  {
   "cell_type": "markdown",
   "metadata": {},
   "source": [
    "### Features selection"
   ]
  },
  {
   "cell_type": "code",
   "execution_count": 25,
   "metadata": {
    "collapsed": true
   },
   "outputs": [],
   "source": [
    "from sklearn.ensemble import ExtraTreesRegressor\n",
    "from sklearn.feature_selection import SelectFromModel"
   ]
  },
  {
   "cell_type": "code",
   "execution_count": null,
   "metadata": {
    "collapsed": true
   },
   "outputs": [],
   "source": [
    "def cross_validate_features(design_matrix, labels, regressor, cv_folds):\n",
    "\n",
    "    for tr, te in cv_folds:\n",
    "        # Restrict data to train/test folds\n",
    "        Xtr = design_matrix[tr, :]\n",
    "        ytr = labels[tr]\n",
    "        Xte = design_matrix[te, :]\n",
    "        yte = labels[te]\n",
    "        \n",
    "        # Fit classifier\n",
    "        regressor.fit(Xtr, ytr)\n",
    "        \n",
    "    return regressor"
   ]
  },
  {
   "cell_type": "code",
   "execution_count": null,
   "metadata": {
    "collapsed": false
   },
   "outputs": [],
   "source": [
    "rgs_fex = ExtraTreesRegressor()\n",
    "rgs_fex = cross_validate_features(Xt, Yt, rgs_fex, folds)\n",
    "\n",
    "model = SelectFromModel(rgs_fex, prefit=True)\n",
    "Xt_new = model.transform(Xt)\n",
    "Xvad_new = model.transform(Xvad)"
   ]
  },
  {
   "cell_type": "code",
   "execution_count": null,
   "metadata": {
    "collapsed": false
   },
   "outputs": [],
   "source": [
    "print(rgs_fex.feature_importances_)\n",
    "print(Xt_new.shape)"
   ]
  },
  {
   "cell_type": "markdown",
   "metadata": {},
   "source": [
    "Without cross-validation"
   ]
  },
  {
   "cell_type": "code",
   "execution_count": 26,
   "metadata": {
    "collapsed": false
   },
   "outputs": [
    {
     "name": "stdout",
     "output_type": "stream",
     "text": [
      "[ 0.02073372  0.01746623  0.01111176  0.00942349  0.00966695  0.00790662\n",
      "  0.00357863  0.00935339  0.00176271  0.00514036  0.00966813  0.02457188\n",
      "  0.022       0.03189184  0.00075964  0.03438418  0.01868821  0.02206383\n",
      "  0.02424932  0.04450652  0.00899758  0.01553103  0.01312642  0.01688796\n",
      "  0.02152924  0.02081959  0.00688424  0.0164938   0.01575111  0.02240195\n",
      "  0.0376493   0.03686342  0.02561711  0.03140348  0.01688519  0.0162282\n",
      "  0.01405094  0.02882803  0.01902973  0.02728304  0.02948643  0.01615728\n",
      "  0.02048812  0.02249362  0.01818991  0.01748693  0.01303845  0.02560059\n",
      "  0.01736095  0.03215763  0.01924239  0.02710894]\n",
      "(3985, 24)\n"
     ]
    }
   ],
   "source": [
    "rgs_fex_ = ExtraTreesRegressor()\n",
    "rgs_fex_.fit(Xt, Yt)\n",
    "\n",
    "print(rgs_fex_.feature_importances_)\n",
    "\n",
    "model = SelectFromModel(rgs_fex_, prefit=True)\n",
    "Xt_new_ = model.transform(Xt)\n",
    "Xvad_new_ = model.transform(Xvad)\n",
    "\n",
    "print(Xt_new_.shape)"
   ]
  },
  {
   "cell_type": "markdown",
   "metadata": {},
   "source": [
    "### Cross validation"
   ]
  },
  {
   "cell_type": "code",
   "execution_count": 17,
   "metadata": {
    "collapsed": true
   },
   "outputs": [],
   "source": [
    "def cross_validate(design_matrix, labels, regressor, cv_folds):\n",
    "\n",
    "    pred = np.zeros(labels.shape)\n",
    "    \n",
    "    for tr, te in cv_folds:\n",
    "        # Restrict data to train/test folds\n",
    "        Xtr = design_matrix[tr, :]\n",
    "        ytr = labels[tr]\n",
    "        Xte = design_matrix[te, :]\n",
    "        yte = labels[te]\n",
    "        \n",
    "        # Fit classifier\n",
    "        regressor.fit(Xtr, ytr)\n",
    "\n",
    "        # Compute prediction\n",
    "        ypred = regressor.predict(Xte)\n",
    "        \n",
    "        # Update pred\n",
    "        pred[te] = ypred\n",
    "        \n",
    "    return pred"
   ]
  },
  {
   "cell_type": "code",
   "execution_count": 40,
   "metadata": {
    "collapsed": true
   },
   "outputs": [],
   "source": [
    "def cross_validate_scoring(design_matrix, labels, regressor, cv_folds):\n",
    "\n",
    "    pred = np.zeros(labels.shape)\n",
    "    pred_score = []\n",
    "    \n",
    "    for tr, te in cv_folds:\n",
    "        # Restrict data to train/test folds\n",
    "        Xtr = design_matrix[tr, :]\n",
    "        ytr = labels[tr]\n",
    "        Xte = design_matrix[te, :]\n",
    "        yte = labels[te]\n",
    "        \n",
    "        # Fit classifier\n",
    "        regressor.fit(Xtr, ytr)\n",
    "\n",
    "        # Compute prediction\n",
    "        ypred = regressor.predict(Xte)\n",
    "        \n",
    "        # Update pred\n",
    "        pred[te] = ypred\n",
    "        \n",
    "        pred_score.append(score(yte, ypred))\n",
    "        \n",
    "    return pred, pred_score"
   ]
  },
  {
   "cell_type": "markdown",
   "metadata": {},
   "source": [
    "# SVM with default C and epsilon"
   ]
  },
  {
   "cell_type": "code",
   "execution_count": 27,
   "metadata": {
    "collapsed": false
   },
   "outputs": [],
   "source": [
    "from sklearn import svm\n",
    "\n",
    "rgs_lSVR = svm.SVR(kernel='linear', C=1, epsilon=0.1)\n",
    "ypred_lSVR = cross_validate(Xt_new_, Yt, rgs_lSVR, folds)"
   ]
  },
  {
   "cell_type": "markdown",
   "metadata": {},
   "source": [
    "### Prediction"
   ]
  },
  {
   "cell_type": "code",
   "execution_count": 19,
   "metadata": {
    "collapsed": true
   },
   "outputs": [],
   "source": [
    "from sklearn import metrics\n",
    "\n",
    "def score(X, y):\n",
    "    return np.sqrt(metrics.mean_squared_log_error(X,y))"
   ]
  },
  {
   "cell_type": "code",
   "execution_count": 28,
   "metadata": {
    "collapsed": false
   },
   "outputs": [
    {
     "name": "stdout",
     "output_type": "stream",
     "text": [
      "0.872670942128\n"
     ]
    }
   ],
   "source": [
    "yvad_pred_lSVR = rgs_lSVR.predict(Xvad_new_)\n",
    "print(score(yvad, yvad_pred_lSVR))\n",
    "\n",
    "# C=1, epsilon=0.1 | K10 | 0.911175507227\n",
    "# C=20, epsilon=14 | K10 | 0.906233012944\n",
    "\n",
    "# C=1, epsilon=0.1 | fex | K10 | 0.919100807276\n",
    "# C=20, epsilon=14 | fex | K10 | 0.912570415476\n",
    "\n",
    "# C=20, epsilon=14 | fex | K5 | 0.918690493542\n",
    "\n",
    "# C=20, epsilon=14 | cv_fex | K10 | 0.912570415476\n",
    "\n",
    "# C=1, epsilon=0.1 | K10 | shuf | 0.923513926151\n",
    "\n",
    "# C=1, epsilon=0.1 | fex | K10 | shuf | 0.913570609851"
   ]
  },
  {
   "cell_type": "code",
   "execution_count": 21,
   "metadata": {
    "collapsed": false
   },
   "outputs": [
    {
     "data": {
      "text/plain": [
       "0.86849303512678355"
      ]
     },
     "execution_count": 21,
     "metadata": {},
     "output_type": "execute_result"
    }
   ],
   "source": [
    "score(Yt, ypred_lSVR)\n",
    "\n",
    "# C=1, epsilon=0.1 | K10 | 0.88753558078152539\n",
    "# C=20, epsilon=14 | K10 | 0.88117686257177841\n",
    "\n",
    "# C=1, epsilon=0.1 | fex | K10 | 0.89682251363886234\n",
    "# C=20, epsilon=14 | fex | K10 | 0.88886084523720232\n",
    "\n",
    "# C=20, epsilon=14 | fex | K5 | 0.88987433468795074\n",
    "\n",
    "# C=20, epsilon=14 | cv_fex | K10 | NaN\n",
    "\n",
    "# C=1, epsilon=0.1 | K10 | shuf | 0.88835567373382196\n",
    "\n",
    "# C=1, epsilon=0.1 | fex | K10 | shuf | 0.88835567373382196"
   ]
  },
  {
   "cell_type": "code",
   "execution_count": 42,
   "metadata": {
    "collapsed": false
   },
   "outputs": [
    {
     "data": {
      "text/plain": [
       "<matplotlib.legend.Legend at 0x1216e7cb3c8>"
      ]
     },
     "execution_count": 42,
     "metadata": {},
     "output_type": "execute_result"
    },
    {
     "data": {
      "image/png": "[encoded data removed]",
      "text/plain": [
       "<matplotlib.figure.Figure at 0x1216e749978>"
      ]
     },
     "metadata": {},
     "output_type": "display_data"
    }
   ],
   "source": [
    "(ypred_lSVR_s, lSVR_s) = cross_validate_scoring(Xt, Yt, rgs_lSVR, folds)\n",
    "\n",
    "N_cv = [i for i in range(len(lSVR_s))]\n",
    "plt.plot(N_cv, lSVR_s, label='Score on each iteration of the cross validation loop', color='green')\n",
    "plt.xlabel('Number of iteration') ; plt.ylabel('RMSLE Score')\n",
    "plt.legend()"
   ]
  },
  {
   "cell_type": "markdown",
   "metadata": {},
   "source": [
    "### SVR whithout Cross validation"
   ]
  },
  {
   "cell_type": "code",
   "execution_count": 29,
   "metadata": {
    "collapsed": false
   },
   "outputs": [
    {
     "name": "stdout",
     "output_type": "stream",
     "text": [
      "0.873762055561\n"
     ]
    }
   ],
   "source": [
    "rgs_lSVR.fit(Xt_new_, Yt)\n",
    "y_SVR_ = rgs_lSVR.predict(Xvad_new_)\n",
    "\n",
    "print(score(yvad, y_SVR_))"
   ]
  },
  {
   "cell_type": "markdown",
   "metadata": {},
   "source": [
    "### SVR with optimized parameters"
   ]
  },
  {
   "cell_type": "code",
   "execution_count": 30,
   "metadata": {
    "collapsed": true
   },
   "outputs": [],
   "source": [
    "from sklearn.model_selection import GridSearchCV\n",
    "\n",
    "parameters_dict = {'C': [0.5, 1, 3, 5],\n",
    "                  'epsilon' : [0.1, 0.5, 1]}\n",
    "\n",
    "# Initialize a linear SVM object that will optimize C by grid search\n",
    "rgs_gs_lSVR = GridSearchCV(svm.SVR(kernel='linear'), parameters_dict)\n",
    "ypred_gs_lSVR = cross_validate(Xt, Yt, rgs_gs_lSVR, folds)"
   ]
  },
  {
   "cell_type": "code",
   "execution_count": 31,
   "metadata": {
    "collapsed": false
   },
   "outputs": [
    {
     "name": "stdout",
     "output_type": "stream",
     "text": [
      "0.859194630351\n"
     ]
    }
   ],
   "source": [
    "yvad_pred_gs_lSVR = rgs_gs_lSVR.predict(Xvad)\n",
    "print(score(yvad, yvad_pred_gs_lSVR))"
   ]
  },
  {
   "cell_type": "code",
   "execution_count": 32,
   "metadata": {
    "collapsed": false
   },
   "outputs": [
    {
     "data": {
      "text/plain": [
       "{'C': 5, 'epsilon': 1}"
      ]
     },
     "execution_count": 32,
     "metadata": {},
     "output_type": "execute_result"
    }
   ],
   "source": [
    "rgs_gs_lSVR.best_params_\n",
    "\n",
    "# {'C': 5, 'epsilon': 1}"
   ]
  },
  {
   "cell_type": "code",
   "execution_count": 43,
   "metadata": {
    "collapsed": false
   },
   "outputs": [
    {
     "data": {
      "text/plain": [
       "0.86334614899637552"
      ]
     },
     "execution_count": 43,
     "metadata": {},
     "output_type": "execute_result"
    }
   ],
   "source": [
    "score(Yt, ypred_gs_lSVR)"
   ]
  },
  {
   "cell_type": "code",
   "execution_count": 52,
   "metadata": {
    "collapsed": false
   },
   "outputs": [
    {
     "data": {
      "text/plain": [
       "<matplotlib.legend.Legend at 0x12175100f28>"
      ]
     },
     "execution_count": 52,
     "metadata": {},
     "output_type": "execute_result"
    },
    {
     "data": {
      "image/png": "[encoded data removed]",
      "text/plain": [
       "<matplotlib.figure.Figure at 0x1217507ef28>"
      ]
     },
     "metadata": {},
     "output_type": "display_data"
    }
   ],
   "source": [
    "set_matplotlib_formats('png')\n",
    "\n",
    "Id = [i for i in range(len(yvad[:200]))]\n",
    "plt.scatter(Id, yvad_pred_gs_lSVR[:200], label='Predictions', color='green', alpha=0.5)\n",
    "plt.scatter(Id, yvad[:200], label='Targets', color='red', alpha=0.5)\n",
    "plt.xlabel('Data') ; plt.ylabel('Predictions')\n",
    "plt.legend()"
   ]
  },
  {
   "cell_type": "markdown",
   "metadata": {},
   "source": [
    "# Gradient Boosting"
   ]
  },
  {
   "cell_type": "code",
   "execution_count": 33,
   "metadata": {
    "collapsed": true
   },
   "outputs": [],
   "source": [
    "from sklearn.ensemble import GradientBoostingRegressor\n",
    "\n",
    "rgs_GB = GradientBoostingRegressor(n_estimators=100, alpha=0.8, loss='lad', learning_rate=0.05, max_depth=4, min_samples_leaf=40)\n",
    "ypred_GB = cross_validate(Xt, Yt, rgs_GB, folds)"
   ]
  },
  {
   "cell_type": "code",
   "execution_count": 34,
   "metadata": {
    "collapsed": false
   },
   "outputs": [
    {
     "name": "stdout",
     "output_type": "stream",
     "text": [
      "0.833406369438\n"
     ]
    }
   ],
   "source": [
    "yvad_pred_GB = rgs_GB.predict(Xvad)\n",
    "print(score(yvad, yvad_pred_GB))\n",
    "\n",
    "# Fuego's parameters | fex | K5 | 0.890868761554\n",
    "# Fuego's parameters | fex | K10 | 0.894632896396"
   ]
  },
  {
   "cell_type": "markdown",
   "metadata": {},
   "source": [
    "# Random forest"
   ]
  },
  {
   "cell_type": "code",
   "execution_count": 35,
   "metadata": {
    "collapsed": true
   },
   "outputs": [],
   "source": [
    "from sklearn.ensemble import RandomForestRegressor\n",
    "\n",
    "rgs_RF = RandomForestRegressor()\n",
    "ypred_tR = cross_validate(Xt, Yt, rgs_RF, folds)"
   ]
  },
  {
   "cell_type": "code",
   "execution_count": 36,
   "metadata": {
    "collapsed": false
   },
   "outputs": [
    {
     "name": "stdout",
     "output_type": "stream",
     "text": [
      "1.00860338668\n"
     ]
    }
   ],
   "source": [
    "yvad_pred_RF = rgs_RF.predict(Xvad)\n",
    "print(score(yvad, yvad_pred_RF))\n",
    "\n",
    "# | cv_fex | K10 | 1.142078502"
   ]
  },
  {
   "cell_type": "code",
   "execution_count": 38,
   "metadata": {
    "collapsed": false
   },
   "outputs": [
    {
     "name": "stdout",
     "output_type": "stream",
     "text": [
      "1.0485029782\n"
     ]
    }
   ],
   "source": [
    "print(score(Yt, ypred_tR))"
   ]
  },
  {
   "cell_type": "code",
   "execution_count": null,
   "metadata": {
    "collapsed": true
   },
   "outputs": [],
   "source": []
  }
 ],
 "metadata": {
  "kernelspec": {
   "display_name": "Python 3",
   "language": "python",
   "name": "python3"
  },
  "language_info": {
   "codemirror_mode": {
    "name": "ipython",
    "version": 3
   },
   "file_extension": ".py",
   "mimetype": "text/x-python",
   "name": "python",
   "nbconvert_exporter": "python",
   "pygments_lexer": "ipython3",
   "version": "3.6.0"
  }
 },
 "nbformat": 4,
 "nbformat_minor": 2
}
